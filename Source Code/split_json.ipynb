{
 "cells": [
  {
   "cell_type": "code",
   "execution_count": 1,
   "metadata": {},
   "outputs": [],
   "source": [
    "import pandas as pd\n",
    "import json\n",
    "from tqdm import tqdm\n",
    "import os"
   ]
  },
  {
   "cell_type": "code",
   "execution_count": 2,
   "metadata": {},
   "outputs": [
    {
     "name": "stderr",
     "output_type": "stream",
     "text": [
      "100%|██████████| 500/500 [00:00<00:00, 3507.12it/s]\n"
     ]
    }
   ],
   "source": [
    "csv_file_path = '../Data/HW2_final.csv'\n",
    "output_directory = '../Data/jsons/'\n",
    "\n",
    "df = pd.read_csv(csv_file_path)\n",
    "df_valid = df.iloc[:5047]\n",
    "df_sample = df_valid.sample(n=500)\n",
    "\n",
    "fields = ['Headline', 'State', 'County', 'Location Details', 'Nearest Town', 'Nearest Road']\n",
    "descriptions = [\n",
    "    \"The headline of the report is\",\n",
    "    \"The State of this location is the\",\n",
    "    \"State, the County is the\",\n",
    "    \"County, the location details are described as\",\n",
    "    \"and, the nearest town is\",\n",
    "    \"and the nearest road is\"\n",
    "]\n",
    "\n",
    "if not os.path.exists(output_directory):\n",
    "    os.makedirs(output_directory)\n",
    "\n",
    "json_docs = []\n",
    "for index, row in tqdm(df_sample.iterrows(), total=df_sample.shape[0]):\n",
    "    json_doc = {}\n",
    "    parts = [\"{} {}\".format(desc, row.get(field, 'N/A')) for desc, field in zip(descriptions, fields) if field in df_sample.columns]\n",
    "    full_description = '. '.join(parts) + '.'\n",
    "    json_doc['description'] = full_description\n",
    "    json_docs.append(json_doc)\n",
    "\n",
    "    with open(os.path.join(output_directory, 'doc_{}.json'.format(index)), 'w') as f:\n",
    "        json.dump(json_doc, f, indent=4)\n",
    "\n",
    "with open(os.path.join(output_directory, 'all_docs.json'), 'w') as f:\n",
    "    json.dump(json_docs, f, indent=4)"
   ]
  },
  {
   "cell_type": "code",
   "execution_count": null,
   "metadata": {},
   "outputs": [],
   "source": []
  }
 ],
 "metadata": {
  "kernelspec": {
   "display_name": "Python 3 (ipykernel)",
   "language": "python",
   "name": "python3"
  },
  "language_info": {
   "codemirror_mode": {
    "name": "ipython",
    "version": 2
   },
   "file_extension": ".py",
   "mimetype": "text/x-python",
   "name": "python",
   "nbconvert_exporter": "python",
   "pygments_lexer": "ipython2",
   "version": "2.7.18"
  }
 },
 "nbformat": 4,
 "nbformat_minor": 4
}
